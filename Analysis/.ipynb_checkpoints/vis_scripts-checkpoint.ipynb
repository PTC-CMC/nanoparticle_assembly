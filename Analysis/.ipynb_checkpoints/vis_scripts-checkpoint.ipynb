{
 "cells": [
  {
   "cell_type": "code",
   "execution_count": 1,
   "metadata": {},
   "outputs": [],
   "source": [
    "#simple script to read in a hoomdxml file, and then create new body section\n",
    "#that includes the grafted chains as part of the rigid body (rather than labeling -1)\n",
    "#This is not useful for running the simulation (non-rigid bodies need to be labeled -1)\n",
    "#but it is useful for visualizing with VMD. Strangly, VMD doesn't create residues\n",
    "#for each body, but it does populate the \"resid\" selection, which makes it easier\n",
    "#to show individual nanoparticles and their associated chains.\n",
    "#we'll also use this new body information to breakup the dcd file to under PBC\n",
    "file_path = '../trajectories/bulk/workspace/'\n",
    "file_folder = file_path +  'ef19c3b8bdcd0a4b572e3a4916cc78bb/'\n",
    "import xml.etree.ElementTree as ET\n",
    "tree = ET.parse(file_folder + 'tnp-box.hoomdxml')\n",
    "root = tree.getroot()\n",
    "\n",
    "body_split = []\n",
    "for entry in root[0]:\n",
    "    if 'body' in entry.tag:\n",
    "        body_split = list(entry.text.split('\\n'))\n",
    "        current_np=0\n",
    "        identify_patch = body_split.copy()\n",
    "        \n",
    "        for i, body in enumerate(body_split):\n",
    "            if not '-1' in body:\n",
    "                if (i < len(body_split)-1) and (i > 0):\n",
    "                    if '-1' in body_split[i+1] and  '-1' in body_split[i-1]:\n",
    "                        identify_patch[i] = -2\n",
    "        for i, body in enumerate(body_split):\n",
    "            if '-1' in body:\n",
    "                body_split[i] = current_np\n",
    "            else:\n",
    "                current_np = body\n",
    "                \n",
    "        entry.text = '\\n'.join(map(str, body_split))\n",
    "# we also identified which particles had chains attached to it\n",
    "# which is useful for being able to thus color the exposed areas\n",
    "# we will set these beads as a separate type\n",
    "for entry in root[0]:\n",
    "    if 'type' in entry.tag:\n",
    "        ptype_split = list(entry.text.split('\\n'))\n",
    "        \n",
    "        for i in range (0,len(ptype_split)):\n",
    "            if -2 == identify_patch[i]:\n",
    "                ptype_split[i] = '_CGN2'\n",
    "\n",
    "        entry.text = '\\n'.join(map(str, ptype_split))\n",
    "#write to file\n",
    "tree.write(file_folder + 'tnp-box-vis.hoomdxml')"
   ]
  },
  {
   "cell_type": "code",
   "execution_count": 2,
   "metadata": {},
   "outputs": [
    {
     "name": "stdout",
     "output_type": "stream",
     "text": [
      "<mdtraj.Trajectory with 23 frames, 19325 atoms, 6925 residues, and unitcells>\n"
     ]
    }
   ],
   "source": [
    "#let's load up the DCD file\n",
    "import mdtraj as md\n",
    "traj = md.load_dcd(file_folder + 'assemble.dcd', stride = 100, top=file_folder + 'tnp-box-vis.hoomdxml')\n",
    "print(traj)"
   ]
  },
  {
   "cell_type": "code",
   "execution_count": 3,
   "metadata": {},
   "outputs": [],
   "source": [
    "#grab the last frame we loaded\n",
    "#can obviously loop over the whole trajectory\n",
    "#but right now I'm just interested in rendering the last frame\n",
    "last = len(traj.xyz)-1"
   ]
  },
  {
   "cell_type": "code",
   "execution_count": 4,
   "metadata": {},
   "outputs": [
    {
     "name": "stdout",
     "output_type": "stream",
     "text": [
      "Total nanoparticles found: 25\n"
     ]
    }
   ],
   "source": [
    "#we end up with two blank entries, one at the start, one at the end of the \"body_split\"\n",
    "#list after parsing this info from XML file.  \n",
    "#It doesn'tt matter for writing the XML, but it matters for undoing PBC.\n",
    "total_np = 0\n",
    "for body in body_split:\n",
    "    if body == '': \n",
    "        body_split.remove('')\n",
    "\n",
    "#identify the number of unique nanoparticles\n",
    "for body in body_split:\n",
    "    # the +1 is here because we start with index 0\n",
    "    if int(body)+1 > total_np:\n",
    "        total_np += 1\n",
    "print('Total nanoparticles found:', total_np)"
   ]
  },
  {
   "cell_type": "code",
   "execution_count": 5,
   "metadata": {},
   "outputs": [],
   "source": [
    "#simple class for a nanoparticle \n",
    "import numpy as np\n",
    "\n",
    "class Nanoparticle:\n",
    "    def __init__(self, np_id):\n",
    "        self.xyz = np.array([])\n",
    "        self.np_id = np_id\n",
    "        self.com = np.array([0,0,0])\n",
    "        self.neighbors_full = []\n",
    "        self.cluster_id = -1\n",
    "        self.clustered = False\n",
    "        self.rebuilt = False\n",
    "\n",
    "        \n",
    "        \n",
    "    def append(self, xyz_temp):\n",
    "        temp_array = np.array([[xyz_temp[0],xyz_temp[1], xyz_temp[2]]])\n",
    "        if len(self.xyz) == 0:\n",
    "            self.xyz = temp_array\n",
    "        else:\n",
    "            self.xyz= np.concatenate((self.xyz, temp_array), axis = 0)\n",
    "    def calc_com(self):\n",
    "        self.com = np.mean(self.xyz, axis=0)\n",
    "    def size_of(self):\n",
    "        return(len(self.xyz))\n",
    "    def print_com(self, factor):\n",
    "        print(self.com*factor)\n",
    "    def return_com(self, factor):\n",
    "        return(self.com*factor)\n",
    "    def print_xyz(self, i, factor):\n",
    "        print(self.xyz[i]*factor)\n",
    "    def return_xyz(self, factor):\n",
    "        return(self.xyz*factor)\n",
    "    def translate(self, xyz_shift):\n",
    "        self.com = np.mean(self.xyz, axis=0)\n",
    "        for i in range (0,len(self.xyz)):\n",
    "            self.xyz[i] = self.xyz[i] - self.com + xyz_shift\n",
    "        self.com = np.mean(self.xyz, axis=0)\n",
    "    def shift(self, xyz_shift):\n",
    "        for i,pos in enumerate(self.xyz):\n",
    "            pos = pos + xyz_shift\n",
    "            self.xyz[i] = pos \n",
    "        self.com = np.mean(self.xyz, axis=0)\n",
    "        \n",
    "    def fix_pbc(self):\n",
    "        #we will just arbitrarily rebuild based on the first particle \n",
    "        for i in range(1,len(self.xyz)):\n",
    "            dx  = self.xyz[i]-self.xyz[0]\n",
    "            self.xyz[i] = self.xyz[i]-np.rint(dx/traj.unitcell_lengths[last])*traj.unitcell_lengths[last]\n",
    "      \n",
    "    def add_neighbor_full(self, neighbor):\n",
    "        self.neighbors_full.append(neighbor)\n",
    "    def return_cn(self):\n",
    "        return len(self.neighbors_full)\n",
    "    def clear_neighbors(self):\n",
    "        self.neighbors_full = []\n",
    "        self.cluster_id = -1\n",
    "        self.clustered = False\n",
    "        self.rebuilt = False\n",
    "\n",
    "             \n",
    "\n"
   ]
  },
  {
   "cell_type": "code",
   "execution_count": 6,
   "metadata": {},
   "outputs": [],
   "source": [
    "#populate the nanoparticle data class with the nanoparticle positions\n",
    "nanoparticles = []\n",
    "for i in range (0, total_np):\n",
    "    np_temp = Nanoparticle(i)\n",
    "    \n",
    "    for j,bid in enumerate(body_split):\n",
    "        if int(bid) == i:\n",
    "            np_temp.append(traj.xyz[last][j])\n",
    "    nanoparticles.append(np_temp)\n",
    "    "
   ]
  },
  {
   "cell_type": "code",
   "execution_count": 7,
   "metadata": {},
   "outputs": [],
   "source": [
    "#config before we fix pbc\n",
    "xyz = np.array([])\n",
    "for i,nano in enumerate(nanoparticles):\n",
    "    if i == 0:\n",
    "        xyz = nano.return_xyz(10.0)\n",
    "    else:\n",
    "        xyz_temp = nano.return_xyz(10.0)\n",
    "        xyz = np.concatenate((xyz, xyz_temp), axis = 0)\n",
    "\n",
    "#overwrite the position field in the xml file\n",
    "#could also easily output to a DCD, but write now\n",
    "#I'm just interested in a single frame for making figures\n",
    "for entry in root[0]:\n",
    "    if 'position' in entry.tag:\n",
    "        temps = []\n",
    "        for x_temp in xyz:\n",
    "            temps.append(str(x_temp).lstrip('\\[').rstrip('\\]'))\n",
    "        temp = '\\n'.join(map(str, temps))\n",
    "        entry.text = '\\n' + temp\n",
    "tree.write(file_folder + 'tnp-box-old.hoomdxml')"
   ]
  },
  {
   "cell_type": "code",
   "execution_count": 8,
   "metadata": {},
   "outputs": [
    {
     "name": "stdout",
     "output_type": "stream",
     "text": [
      "[-12.885274 -39.392372  43.677464]\n",
      "[ 15.323981  27.634617 -29.196653]\n",
      "[  2.0578308  37.04739   -37.631195 ]\n",
      "[  1.7596867  43.05712   -25.16183  ]\n",
      "[ -2.2149577 -39.97517    -7.328559 ]\n",
      "[-7.4168797  5.347118  43.86824  ]\n",
      "[17.382477 27.865255 30.943283]\n",
      "[ -2.7414012  51.78282   -16.621197 ]\n",
      "[ -2.91156  -37.395813 -34.241985]\n",
      "[ 3.5405433 26.460047  33.233265 ]\n",
      "[-6.4515915 17.540619  37.20901  ]\n",
      "[ 9.406787 17.664047 51.350803]\n",
      "[  7.0284123  24.302094  -38.769955 ]\n",
      "[22.762512 15.703548 26.759388]\n",
      "[17.611298 16.607029 39.80047 ]\n",
      "[ -1.9018049 -31.236868  -17.279812 ]\n",
      "[-11.790783   -3.2154403 -48.49857  ]\n",
      "[-14.54678   -8.807175 -31.329693]\n",
      "[ -6.750185 -13.354113 -41.96817 ]\n",
      "[ -2.8241673  50.049065  -35.687893 ]\n",
      "[-19.596615    0.3167029 -23.333427 ]\n",
      "[ -2.2832832 -25.70711   -42.285133 ]\n",
      "[ -2.178094 -24.20144  -28.47019 ]\n",
      "[ 5.159614  9.997451 40.617157]\n",
      "[ -4.2787323 -38.399384   53.272785 ]\n"
     ]
    }
   ],
   "source": [
    "#let's fix the pbc and calculate the new COM of the nanoparticles\n",
    "for nano in nanoparticles:\n",
    "    nano.fix_pbc()\n",
    "    nano.calc_com()\n",
    "    nano.print_com(10.0)"
   ]
  },
  {
   "cell_type": "code",
   "execution_count": 9,
   "metadata": {},
   "outputs": [],
   "source": [
    "\n",
    "xyz = np.array([])\n",
    "for i,nano in enumerate(nanoparticles):\n",
    "    if i == 0:\n",
    "        xyz = nano.return_xyz(10.0)\n",
    "    else:\n",
    "        xyz_temp = nano.return_xyz(10.0)\n",
    "        xyz = np.concatenate((xyz, xyz_temp), axis = 0)\n",
    "\n",
    "\n",
    "for entry in root[0]:\n",
    "    if 'position' in entry.tag:\n",
    "        temps = []\n",
    "        for x_temp in xyz:\n",
    "            temps.append(str(x_temp).lstrip('\\[').rstrip('\\]'))\n",
    "        temp = '\\n'.join(map(str, temps))\n",
    "        entry.text = '\\n' + temp\n",
    "tree.write(file_folder + 'tnp-box-new.hoomdxml')\n",
    " "
   ]
  },
  {
   "cell_type": "code",
   "execution_count": 10,
   "metadata": {},
   "outputs": [],
   "source": [
    "def calc_distance(i,j,return_vec=False,no_pbc=False):\n",
    "    dx = nanoparticles[i].return_com(1.0)- nanoparticles[j].return_com(1.0)\n",
    "    if no_pbc == False:\n",
    "        dx = dx-np.rint(dx/traj.unitcell_lengths[last])*traj.unitcell_lengths[last]\n",
    "    dr = np.sqrt(dx.dot(dx))\n",
    "    if return_vec:\n",
    "        return dx\n",
    "    return dr\n",
    "\n",
    "\n",
    "#ref sigma is 3.95\n",
    "cutoff = 7.0/3.95\n",
    "for nano in nanoparticles:\n",
    "    nano.clear_neighbors()\n",
    "for i in range(0, len(nanoparticles)-1):\n",
    "    for j in range(i+1, len(nanoparticles)):\n",
    "        dr = calc_distance(i,j)\n",
    "        if dr < cutoff:\n",
    "            nanoparticles[i].add_neighbor_full(j)\n",
    "            nanoparticles[j].add_neighbor_full(i)\n",
    "\n"
   ]
  },
  {
   "cell_type": "code",
   "execution_count": 11,
   "metadata": {},
   "outputs": [
    {
     "name": "stdout",
     "output_type": "stream",
     "text": [
      "1\n",
      "1\n",
      "3\n",
      "3\n",
      "2\n",
      "3\n",
      "3\n",
      "2\n",
      "4\n",
      "2\n",
      "3\n",
      "3\n",
      "3\n",
      "2\n",
      "4\n",
      "2\n",
      "2\n",
      "2\n",
      "3\n",
      "3\n",
      "1\n",
      "4\n",
      "3\n",
      "4\n",
      "3\n"
     ]
    }
   ],
   "source": [
    "coordination_number = []\n",
    "for nano in nanoparticles:\n",
    "    print(nano.return_cn())\n",
    "    coordination_number.append(nano.return_cn())"
   ]
  },
  {
   "cell_type": "code",
   "execution_count": 12,
   "metadata": {},
   "outputs": [
    {
     "name": "stdout",
     "output_type": "stream",
     "text": [
      "0 [0, 1, 2, 3, 4, 5, 6, 7, 8, 9, 10, 11, 12, 13, 14, 15, 16, 17, 18, 19, 20, 21, 22, 23, 24]\n"
     ]
    }
   ],
   "source": [
    "def calc_cluster(np_id, nanoparticles, cluster_id):\n",
    "    nanoparticles[np_id].clustered = True\n",
    "    nanoparticles[np_id].cluster_id = cluster_id\n",
    "    for neighbor in nanoparticles[np_id].neighbors_full:\n",
    "        if nanoparticles[neighbor].cluster_id < 0:\n",
    "            calc_cluster(neighbor, nanoparticles, cluster_id)\n",
    "cluster_id = 0\n",
    "\n",
    "for nano in nanoparticles:\n",
    "    if nano.clustered == False:\n",
    "        calc_cluster(nano.np_id, nanoparticles, cluster_id)\n",
    "        cluster_id = cluster_id + 1\n",
    "\n",
    "n_clusters = cluster_id\n",
    "clusters = []\n",
    "cluster_size = []\n",
    "\n",
    "for i in range(0, n_clusters):\n",
    "    cluster_temp = []\n",
    "    for nano in nanoparticles:\n",
    "        if nano.cluster_id == i:\n",
    "            cluster_temp.append(nano.np_id)\n",
    "    #print(i, particle.pid, particle.cluster_id)\n",
    "    clusters.append(cluster_temp)\n",
    "    cluster_size.append(len(cluster_temp))\n",
    "    print(i, cluster_temp)\n",
    "\n"
   ]
  },
  {
   "cell_type": "code",
   "execution_count": 13,
   "metadata": {},
   "outputs": [
    {
     "name": "stdout",
     "output_type": "stream",
     "text": [
      "number of clusters:  1\n",
      "cluster_sizes:  [25]\n",
      "mean cluster size:  25.0 0.0\n",
      "mean coordination number:  2.64 0.8890444308357148\n"
     ]
    }
   ],
   "source": [
    "print(\"number of clusters: \", n_clusters)\n",
    "print(\"cluster_sizes: \", cluster_size)\n",
    "\n",
    "print(\"mean cluster size: \", np.mean(cluster_size), np.std(cluster_size))\n",
    "print(\"mean coordination number: \", np.mean(coordination_number), np.std(coordination_number))"
   ]
  },
  {
   "cell_type": "code",
   "execution_count": 14,
   "metadata": {},
   "outputs": [
    {
     "name": "stdout",
     "output_type": "stream",
     "text": [
      "24 1.292783\n",
      "8 8.75312\n",
      "rebuilding  8\n",
      "19 13.489371\n",
      "rebuilding  19\n",
      "2 13.589149\n",
      "rebuilding  2\n",
      "3 13.925856\n",
      "rebuilding  3\n",
      "7 14.393181\n",
      "rebuilding  7\n",
      "4 9.246479\n",
      "rebuilding  4\n",
      "15 11.156025\n",
      "rebuilding  15\n",
      "22 11.267641\n",
      "rebuilding  22\n",
      "21 11.509064\n",
      "rebuilding  21\n",
      "18 10.179992\n",
      "rebuilding  18\n",
      "16 10.838924\n",
      "rebuilding  16\n",
      "5 1.31012\n",
      "10 1.3926901\n",
      "9 1.3971596\n",
      "6 1.4100274\n",
      "13 1.3941194\n",
      "14 1.4050659\n",
      "11 1.4207095\n",
      "12 9.0396185\n",
      "rebuilding  12\n",
      "1 9.212731\n",
      "rebuilding  1\n",
      "23 1.3857358\n",
      "17 9.107567\n",
      "rebuilding  17\n",
      "20 9.3850765\n",
      "rebuilding  20\n"
     ]
    }
   ],
   "source": [
    "def rebuild_cluster(np_id, nanoparticles):\n",
    "    for neighbor in nanoparticles[np_id].neighbors_full:\n",
    "        if nanoparticles[neighbor].rebuilt == False:\n",
    "            dr = calc_distance(np_id, neighbor, no_pbc = True)\n",
    "            print(neighbor, dr)\n",
    "\n",
    "            if dr > traj.unitcell_lengths[last][0]/2.0:\n",
    "                dx = calc_distance(neighbor, np_id, return_vec=True)\n",
    "                nanoparticles[neighbor].translate(dx+nanoparticles[np_id].return_com(1.0))\n",
    "                print(\"rebuilding \", neighbor)\n",
    "            nanoparticles[neighbor].rebuilt = True\n",
    "            rebuild_cluster(neighbor, nanoparticles)\n",
    "            \n",
    "for cluster in clusters:\n",
    "    nanoparticles[cluster[0]].rebuilt = True\n",
    "    rebuild_cluster(cluster[0], nanoparticles)\n",
    "    "
   ]
  },
  {
   "cell_type": "code",
   "execution_count": 15,
   "metadata": {},
   "outputs": [
    {
     "name": "stdout",
     "output_type": "stream",
     "text": [
      "[ 5.0441553e-03 -1.1814930e+00  5.8476601e+00]\n"
     ]
    }
   ],
   "source": [
    "system_coms = np.array([])\n",
    "for nano in nanoparticles:\n",
    "    temp_array = np.array([[nano.return_com(1.0)[0],nano.return_com(1.0)[1], nano.return_com(1.0)[2]]])\n",
    "    if len(system_coms) == 0:\n",
    "            system_coms = temp_array\n",
    "    else: \n",
    "        system_coms= np.concatenate((system_coms, temp_array), axis = 0)\n",
    "\n",
    "\n",
    "system_com = np.mean(system_coms, axis=0)\n",
    "print(system_com)\n",
    "\n",
    "for nano in nanoparticles:\n",
    "    nano.shift(-system_com)"
   ]
  },
  {
   "cell_type": "code",
   "execution_count": 16,
   "metadata": {},
   "outputs": [
    {
     "name": "stdout",
     "output_type": "stream",
     "text": [
      "[6.3180920e-08 1.7166138e-07 3.3140182e-07]\n"
     ]
    }
   ],
   "source": [
    "system_coms = np.array([])\n",
    "for nano in nanoparticles:\n",
    "    temp_array = np.array([[nano.return_com(1.0)[0],nano.return_com(1.0)[1], nano.return_com(1.0)[2]]])\n",
    "    if len(system_coms) == 0:\n",
    "            system_coms = temp_array\n",
    "    else: \n",
    "        system_coms= np.concatenate((system_coms, temp_array), axis = 0)\n",
    "\n",
    "\n",
    "system_com = np.mean(system_coms, axis=0)\n",
    "print(system_com)"
   ]
  },
  {
   "cell_type": "code",
   "execution_count": 17,
   "metadata": {},
   "outputs": [],
   "source": [
    "\n",
    "xyz = np.array([])\n",
    "for i,nano in enumerate(nanoparticles):\n",
    "    if i == 0:\n",
    "        xyz = nano.return_xyz(10.0)\n",
    "    else:\n",
    "        xyz_temp = nano.return_xyz(10.0)\n",
    "        xyz = np.concatenate((xyz, xyz_temp), axis = 0)\n",
    "\n",
    "\n",
    "for entry in root[0]:\n",
    "    if 'position' in entry.tag:\n",
    "        temps = []\n",
    "        for x_temp in xyz:\n",
    "            temps.append(str(x_temp).lstrip('\\[').rstrip('\\]'))\n",
    "        temp = '\\n'.join(map(str, temps))\n",
    "        entry.text = '\\n' + temp\n",
    "tree.write(file_folder + 'tnp-box-new_rb.hoomdxml')"
   ]
  },
  {
   "cell_type": "code",
   "execution_count": null,
   "metadata": {},
   "outputs": [],
   "source": []
  }
 ],
 "metadata": {
  "kernelspec": {
   "display_name": "Python 3",
   "language": "python",
   "name": "python3"
  },
  "language_info": {
   "codemirror_mode": {
    "name": "ipython",
    "version": 3
   },
   "file_extension": ".py",
   "mimetype": "text/x-python",
   "name": "python",
   "nbconvert_exporter": "python",
   "pygments_lexer": "ipython3",
   "version": "3.6.10"
  }
 },
 "nbformat": 4,
 "nbformat_minor": 4
}

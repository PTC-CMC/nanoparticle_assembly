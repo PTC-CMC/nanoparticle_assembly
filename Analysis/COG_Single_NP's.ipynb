{
 "cells": [
  {
   "cell_type": "markdown",
   "metadata": {},
   "source": [
    "# Calculates Silica Nanoparticle COG for Export into Freud"
   ]
  },
  {
   "cell_type": "markdown",
   "metadata": {},
   "source": [
    "08-13-20 <br>\n",
    "<br>\n",
    "1. Take dcd files from trajectory of single particle systems and calculate COG\n",
    "2. Save an output xyz that can be opened in VMD\n",
    "3. Calculate Coordination number"
   ]
  },
  {
   "cell_type": "code",
   "execution_count": 1,
   "metadata": {},
   "outputs": [],
   "source": [
    "import os\n",
    "from os import path\n",
    "import mdtraj\n",
    "import MDAnalysis as md\n",
    "import numpy as np\n",
    "from MDAnalysis.analysis.base import AnalysisFromFunction\n",
    "from MDAnalysis.coordinates.memory import MemoryReader"
   ]
  },
  {
   "cell_type": "markdown",
   "metadata": {},
   "source": [
    "# DCD to COG"
   ]
  },
  {
   "cell_type": "code",
   "execution_count": 18,
   "metadata": {},
   "outputs": [],
   "source": [
    "def SilicaID(a,b,n):\n",
    "    #n=number of nanoparticles\n",
    "    #a=silica particles per bead\n",
    "    #b=total particles per bead\n",
    "    array1=np.array([],dtype=int)\n",
    "    i=0\n",
    "    while i<n:\n",
    "        addarray=np.arange(i*b,i*b+a,1)\n",
    "        array1=np.append(array1,addarray)\n",
    "        i+=1   \n",
    "    return(array1)"
   ]
  },
  {
   "cell_type": "code",
   "execution_count": 3,
   "metadata": {},
   "outputs": [],
   "source": [
    "def Group(particle_number):\n",
    "    #for i in np.arange(0,25,1):\n",
    "    particle_total=153\n",
    "    indices1=(particle_total*particle_number+1)\n",
    "    indices2=((particle_number+1)*(particle_total)) \n",
    "    bynum=(\"bynum \" + str(indices1) + \":\" + str(indices2))\n",
    "    ag=silica_universe.select_atoms(bynum)\n",
    "    return ag"
   ]
  },
  {
   "cell_type": "code",
   "execution_count": 4,
   "metadata": {},
   "outputs": [],
   "source": [
    "def Check_Wrap(ag):\n",
    "#check if wrapping is necessary, wrap is your value\n",
    "    wrap=[False,False,False]\n",
    "    for j in np.arange(0,153,1):\n",
    "        for i in [0,1,2]:\n",
    "            #print(j)\n",
    "            if abs(ag.positions[j,i])>50:\n",
    "                #print('pbc present')\n",
    "                wrap[i]=True\n",
    "    return(wrap)"
   ]
  },
  {
   "cell_type": "code",
   "execution_count": 5,
   "metadata": {},
   "outputs": [],
   "source": [
    "def Wrap_Frame(ag):\n",
    "    ag1_3=ag.positions\n",
    "    for i in [0,1,2]:\n",
    "        if Check_Wrap(ag)[i]:\n",
    "            #Unwrap the data\n",
    "            #print(i)\n",
    "            ag1_avg=np.zeros((153,3))\n",
    "            ag1_avg=np.average(ag.positions[:,i])\n",
    "            #Compare each value to the average\n",
    "            \n",
    "            for j,coord_point in enumerate(ag.positions[:,i]):\n",
    "                if ag1_avg*coord_point <=0:\n",
    "                    #flip it\n",
    "                    if coord_point>=0:\n",
    "                        ag1_3[j,i]=ag1_3[j,i]-universe.dimensions[i]\n",
    "                    else:\n",
    "                        ag1_3[j,i]=ag1_3[j,i]+universe.dimensions[i]\n",
    "    \n",
    "    return(ag1_3)"
   ]
  },
  {
   "cell_type": "code",
   "execution_count": 6,
   "metadata": {},
   "outputs": [],
   "source": [
    "def Calculate_COG(ag):\n",
    "    newpositions=Wrap_Frame(ag)\n",
    "    #print('ag.positions',ag.positions)\n",
    "    #print(newpositions)\n",
    "    #print('ag original positions', ag.positions)\n",
    "    #print(newpositions-ag.positions)\n",
    "    ag.positions=newpositions\n",
    "    return(ag.center_of_geometry())"
   ]
  },
  {
   "cell_type": "code",
   "execution_count": 7,
   "metadata": {},
   "outputs": [],
   "source": [
    "def XYZOutput(positions,particle_type,filename='Test.xyz',\n",
    "              start=False,particle_number=25):\n",
    "    if particle_type=='COM_NP':\n",
    "        if start:\n",
    "            with open(filename,'w') as f:\n",
    "                f.write('25\\n')\n",
    "                f.write('NP\\n')\n",
    "                for i in np.arange(0,25,1):\n",
    "                    f.write('SiO2 {} {} {}\\n'.format(positions[i][0],\n",
    "                                                     positions[i][1],\n",
    "                                                     positions[i][2]))\n",
    "        elif not start:\n",
    "            with open(filename,'a') as f:\n",
    "                f.write('25\\n')\n",
    "                f.write('NP\\n')\n",
    "                for i in np.arange(0,25,1):\n",
    "                    f.write('SiO2 {} {} {}\\n'.format(positions[i][0],\n",
    "                                                     positions[i][1],\n",
    "                                                     positions[i][2]))\n",
    "        \n",
    "    else:\n",
    "        print('Your particle Type is not recognized')"
   ]
  },
  {
   "cell_type": "code",
   "execution_count": 8,
   "metadata": {},
   "outputs": [],
   "source": [
    "def Write_COG_Trajectory(filename='COM.XYZ',n_frames=2500):\n",
    "    frame=n_frames-101\n",
    "    silica_universe.trajectory._read_frame(frame)\n",
    "    silica_universe.dimensions=universe.dimensions\n",
    "    NP=0\n",
    "    COM=np.zeros((25,3))\n",
    "    while NP<25:\n",
    "        ag=Group(NP)\n",
    "        #print('atomgroup is:', ag)\n",
    "        COM[NP][:] = Calculate_COG(ag)\n",
    "        NP+=1\n",
    "    XYZOutput(COM,particle_type='COM_NP',filename=filename,start=True) \n",
    "    while frame<n_frames-1:\n",
    "        frame+=1\n",
    "        silica_universe.trajectory._read_frame(frame)\n",
    "        silica_universe.dimensions=universe.dimensions\n",
    "        NP=0\n",
    "        while NP<25:\n",
    "            ag=Group(NP)\n",
    "            #print('atomgroup is:', ag)\n",
    "            COM[NP][:] = Calculate_COG(ag)\n",
    "            NP+=1\n",
    "        XYZOutput(COM,particle_type='COM_NP',filename=filename)"
   ]
  },
  {
   "cell_type": "markdown",
   "metadata": {},
   "source": [
    "Take a file to do analysis on.\n",
    "Files are in marked folders in the ../trajectories/Bulk/ folder"
   ]
  },
  {
   "cell_type": "code",
   "execution_count": 9,
   "metadata": {},
   "outputs": [
    {
     "data": {
      "text/plain": [
       "1933"
      ]
     },
     "execution_count": 9,
     "metadata": {},
     "output_type": "execute_result"
    }
   ],
   "source": [
    "file_path = '../trajectories/bulk/workspace/'\n",
    "gsdpath=file_path + '1bb21ced4538fec0a1744ab973600ca0/tnp-box-backup.hoomdxml'\n",
    "dcdpath=file_path + '1bb21ced4538fec0a1744ab973600ca0/assemble.dcd'\n",
    "universe=md.Universe(gsdpath,dcdpath,topology_format='xml',scale=.395)\n",
    "universe.trajectory.n_frames"
   ]
  },
  {
   "cell_type": "code",
   "execution_count": 11,
   "metadata": {},
   "outputs": [],
   "source": [
    "traj = mdtraj.load_frame(file_path + '1bb21ced4538fec0a1744ab973600ca0/assemble.dcd',\n",
    "                         top=file_path + '1bb21ced4538fec0a1744ab973600ca0/tnp-box.pdb',\n",
    "                         index=1900)"
   ]
  },
  {
   "cell_type": "code",
   "execution_count": 44,
   "metadata": {},
   "outputs": [],
   "source": [
    "traj.save_dcd(file_path + '1bb21ced4538fec0a1744ab973600ca0/single_frame_dcd_agg.dcd')"
   ]
  },
  {
   "cell_type": "code",
   "execution_count": 15,
   "metadata": {},
   "outputs": [
    {
     "data": {
      "text/plain": [
       "681.0"
      ]
     },
     "execution_count": 15,
     "metadata": {},
     "output_type": "execute_result"
    }
   ],
   "source": [
    "#153 CGN, 1203 atoms per np\n",
    "universe.atoms.n_atoms/25"
   ]
  },
  {
   "cell_type": "code",
   "execution_count": 19,
   "metadata": {},
   "outputs": [
    {
     "name": "stdout",
     "output_type": "stream",
     "text": [
      "[101.26582 101.26582 101.26582  90.       90.       90.     ]\n"
     ]
    }
   ],
   "source": [
    "silica_id=SilicaID(153,int(universe.atoms.n_atoms/25),25)\n",
    "universe.trajectory._read_frame(0)\n",
    "silica_atoms=universe.atoms[silica_id]\n",
    "\n",
    "coordinates=AnalysisFromFunction(lambda ag: ag.positions.copy(),\n",
    "                                silica_atoms).run().results\n",
    "#print(silica_atoms.positions)\n",
    "silica_universe=md.core.universe.Merge(silica_atoms)\n",
    "silica_universe.load_new(coordinates, format=MemoryReader)\n",
    "silica_universe.dimensions=universe.dimensions\n",
    "print(silica_universe.dimensions)"
   ]
  },
  {
   "cell_type": "code",
   "execution_count": 14,
   "metadata": {},
   "outputs": [],
   "source": [
    "#Write_COG_Trajectory(filename='1499538af491ce89bbfed0de287077ee/COG.xyz',frame_total=2250)"
   ]
  },
  {
   "cell_type": "code",
   "execution_count": 20,
   "metadata": {},
   "outputs": [
    {
     "name": "stdout",
     "output_type": "stream",
     "text": [
      "813.0\n",
      "You are:  0.0  done\n",
      "\n",
      "1203.0\n",
      "You are:  0.020833333333333332  done\n",
      "\n",
      "681.0\n",
      "You are:  0.041666666666666664  done\n",
      "\n",
      "1185.0\n",
      "You are:  0.0625  done\n",
      "\n",
      "1353.0\n",
      "You are:  0.08333333333333333  done\n",
      "\n",
      "1266.0\n",
      "You are:  0.10416666666666667  done\n",
      "\n",
      "1389.0\n",
      "You are:  0.125  done\n",
      "\n",
      "897.0\n",
      "You are:  0.14583333333333334  done\n",
      "\n",
      "1071.0\n",
      "You are:  0.16666666666666666  done\n",
      "\n",
      "1209.0\n",
      "You are:  0.1875  done\n",
      "\n",
      "1221.0\n",
      "You are:  0.20833333333333334  done\n",
      "\n",
      "1179.0\n",
      "You are:  0.22916666666666666  done\n",
      "\n",
      "1527.0\n",
      "You are:  0.25  done\n",
      "\n",
      "1289.0\n",
      "You are:  0.2708333333333333  done\n",
      "\n",
      "1577.0\n",
      "You are:  0.2916666666666667  done\n",
      "\n",
      "1107.0\n",
      "You are:  0.3333333333333333  done\n",
      "\n",
      "973.0\n",
      "You are:  0.3541666666666667  done\n",
      "\n",
      "1494.0\n",
      "You are:  0.375  done\n",
      "\n",
      "783.0\n",
      "You are:  0.3958333333333333  done\n",
      "\n",
      "1393.0\n",
      "You are:  0.4166666666666667  done\n",
      "\n",
      "888.0\n",
      "You are:  0.4375  done\n",
      "\n",
      "1641.0\n",
      "You are:  0.4583333333333333  done\n",
      "\n",
      "651.0\n",
      "You are:  0.4791666666666667  done\n",
      "\n",
      "891.0\n",
      "You are:  0.5  done\n",
      "\n",
      "921.0\n",
      "You are:  0.5208333333333334  done\n",
      "\n",
      "1017.0\n",
      "You are:  0.5416666666666666  done\n",
      "\n",
      "1113.0\n",
      "You are:  0.5625  done\n",
      "\n",
      "1425.0\n",
      "You are:  0.5833333333333334  done\n",
      "\n",
      "1053.0\n",
      "You are:  0.6041666666666666  done\n",
      "\n",
      "729.0\n",
      "You are:  0.625  done\n",
      "\n",
      "1323.0\n",
      "You are:  0.6458333333333334  done\n",
      "\n",
      "1253.0\n",
      "You are:  0.6666666666666666  done\n",
      "\n",
      "1269.0\n",
      "You are:  0.6875  done\n",
      "\n",
      "1005.0\n",
      "You are:  0.7083333333333334  done\n",
      "\n",
      "1033.0\n",
      "You are:  0.75  done\n",
      "\n",
      "857.0\n",
      "You are:  0.7708333333333334  done\n",
      "\n",
      "1112.0\n",
      "You are:  0.7916666666666666  done\n",
      "\n",
      "1345.0\n",
      "You are:  0.8333333333333334  done\n",
      "\n",
      "1145.0\n",
      "You are:  0.8541666666666666  done\n",
      "\n",
      "1653.0\n",
      "You are:  0.875  done\n",
      "\n",
      "927.0\n",
      "You are:  0.8958333333333334  done\n",
      "\n",
      "773.0\n",
      "You are:  0.9166666666666666  done\n",
      "\n",
      "1113.0\n",
      "You are:  0.9583333333333334  done\n",
      "\n",
      "1377.0\n",
      "You are:  0.9791666666666666  done\n",
      "\n"
     ]
    }
   ],
   "source": [
    "#Run this to calculate the COG of the bulk simulations\n",
    "with open(\"file_list\",\"r\") as file:\n",
    "    directory_list=file.readlines()\n",
    "    length=len(directory_list)\n",
    "    for i,file in enumerate(directory_list):\n",
    "        #print(file[0:-1])\n",
    "        gsdpath= file_path + file[0:-1] + 'tnp-box-backup.hoomdxml'\n",
    "        dcdpath= file_path + file[0:-1] + 'assemble.dcd'\n",
    "        if not path.exists(dcdpath):\n",
    "            continue\n",
    "        if not path.exists(gsdpath):\n",
    "            continue\n",
    "        universe=md.Universe(gsdpath,dcdpath,topology_format='xml')\n",
    "        n_frames=universe.trajectory.n_frames\n",
    "        n_atoms=universe.atoms.n_atoms\n",
    "        print(n_atoms/25)\n",
    "        \n",
    "        silica_id=SilicaID(153,int(n_atoms/25),25)\n",
    "        universe.trajectory._read_frame(0)\n",
    "        silica_atoms=universe.atoms[silica_id]\n",
    "\n",
    "        coordinates=AnalysisFromFunction(lambda ag: ag.positions.copy(),\n",
    "                                        silica_atoms).run().results\n",
    "        #print(silica_atoms.positions)\n",
    "        silica_universe=md.core.universe.Merge(silica_atoms)\n",
    "        silica_universe.load_new(coordinates, format=MemoryReader)\n",
    "        silica_universe.dimensions=universe.dimensions\n",
    "        print(\"You are: \",i/length,\" done\\n\")\n",
    "        \n",
    "        Write_COG_Trajectory(filename= file_path + file[0:-1] + 'COG.xyz', n_frames=n_frames)"
   ]
  },
  {
   "cell_type": "code",
   "execution_count": null,
   "metadata": {},
   "outputs": [],
   "source": []
  }
 ],
 "metadata": {
  "kernelspec": {
   "display_name": "Python 3",
   "language": "python",
   "name": "python3"
  },
  "language_info": {
   "codemirror_mode": {
    "name": "ipython",
    "version": 3
   },
   "file_extension": ".py",
   "mimetype": "text/x-python",
   "name": "python",
   "nbconvert_exporter": "python",
   "pygments_lexer": "ipython3",
   "version": "3.6.10"
  }
 },
 "nbformat": 4,
 "nbformat_minor": 4
}
